{
 "cells": [
  {
   "cell_type": "code",
   "execution_count": 1,
   "id": "dab45cc2",
   "metadata": {},
   "outputs": [],
   "source": [
    "import requests\n",
    "import pandas as pd\n",
    "from datetime import datetime\n",
    "from datetime import timedelta\n",
    "import time\n",
    "from dateutil import tz\n",
    "import matplotlib.pyplot as plt"
   ]
  },
  {
   "cell_type": "code",
   "execution_count": 2,
   "id": "9b65cd9b",
   "metadata": {},
   "outputs": [],
   "source": [
    "jan_comments = pd.read_csv(r\"C:\\Users\\Daniel\\Documents\\NLP Class\\Project\\gme_comments_jan.csv\")\n",
    "feb_comments = pd.read_csv(r\"C:\\Users\\Daniel\\Documents\\NLP Class\\Project\\gme_comments_feb.csv\")\n",
    "mar_comments = pd.read_csv(r\"C:\\Users\\Daniel\\Documents\\NLP Class\\Project\\gme_comments_mar.csv\")\n",
    "apr_comments = pd.read_csv(r\"C:\\Users\\Daniel\\Documents\\NLP Class\\Project\\gme_comments_apr.csv\")\n",
    "may_comments = pd.read_csv(r\"C:\\Users\\Daniel\\Documents\\NLP Class\\Project\\gme_comments_may.csv\")\n",
    "jun_comments = pd.read_csv(r\"C:\\Users\\Daniel\\Documents\\NLP Class\\Project\\gme_comments_jun.csv\")\n",
    "\n",
    "prices = pd.read_csv(r\"C:\\Users\\Daniel\\Documents\\NLP Class\\Project\\gme_prices.csv\")\n",
    "\n"
   ]
  },
  {
   "cell_type": "code",
   "execution_count": 36,
   "id": "ccfbf8e0",
   "metadata": {},
   "outputs": [
    {
     "data": {
      "text/html": [
       "<div>\n",
       "<style scoped>\n",
       "    .dataframe tbody tr th:only-of-type {\n",
       "        vertical-align: middle;\n",
       "    }\n",
       "\n",
       "    .dataframe tbody tr th {\n",
       "        vertical-align: top;\n",
       "    }\n",
       "\n",
       "    .dataframe thead th {\n",
       "        text-align: right;\n",
       "    }\n",
       "</style>\n",
       "<table border=\"1\" class=\"dataframe\">\n",
       "  <thead>\n",
       "    <tr style=\"text-align: right;\">\n",
       "      <th></th>\n",
       "      <th>Unnamed: 0</th>\n",
       "      <th>afterHours</th>\n",
       "      <th>close</th>\n",
       "      <th>date</th>\n",
       "      <th>high</th>\n",
       "      <th>open</th>\n",
       "      <th>preMarket</th>\n",
       "      <th>status</th>\n",
       "      <th>volume</th>\n",
       "      <th>pricemonth</th>\n",
       "    </tr>\n",
       "    <tr>\n",
       "      <th>move</th>\n",
       "      <th></th>\n",
       "      <th></th>\n",
       "      <th></th>\n",
       "      <th></th>\n",
       "      <th></th>\n",
       "      <th></th>\n",
       "      <th></th>\n",
       "      <th></th>\n",
       "      <th></th>\n",
       "      <th></th>\n",
       "    </tr>\n",
       "  </thead>\n",
       "  <tbody>\n",
       "    <tr>\n",
       "      <th>-1</th>\n",
       "      <td>16</td>\n",
       "      <td>16</td>\n",
       "      <td>16</td>\n",
       "      <td>16</td>\n",
       "      <td>16</td>\n",
       "      <td>16</td>\n",
       "      <td>16</td>\n",
       "      <td>16</td>\n",
       "      <td>16</td>\n",
       "      <td>16</td>\n",
       "    </tr>\n",
       "    <tr>\n",
       "      <th>1</th>\n",
       "      <td>15</td>\n",
       "      <td>15</td>\n",
       "      <td>15</td>\n",
       "      <td>15</td>\n",
       "      <td>15</td>\n",
       "      <td>15</td>\n",
       "      <td>15</td>\n",
       "      <td>15</td>\n",
       "      <td>15</td>\n",
       "      <td>15</td>\n",
       "    </tr>\n",
       "  </tbody>\n",
       "</table>\n",
       "</div>"
      ],
      "text/plain": [
       "      Unnamed: 0  afterHours  close  date  high  open  preMarket  status  \\\n",
       "move                                                                       \n",
       "-1            16          16     16    16    16    16         16      16   \n",
       " 1            15          15     15    15    15    15         15      15   \n",
       "\n",
       "      volume  pricemonth  \n",
       "move                      \n",
       "-1        16          16  \n",
       " 1        15          15  "
      ]
     },
     "execution_count": 36,
     "metadata": {},
     "output_type": "execute_result"
    },
    {
     "data": {
      "image/png": "[encoded data removed]",
      "text/plain": [
       "<Figure size 432x288 with 1 Axes>"
      ]
     },
     "metadata": {
      "needs_background": "light"
     },
     "output_type": "display_data"
    }
   ],
   "source": [
    "\n",
    "prices['move'] = prices.apply(lambda row: 1 if (row.close > + row.open) else -1, axis=1)\n",
    "plt.bar(prices['date'], prices['close'])\n",
    "prices.head()\n",
    "\n",
    "prices['pricemonth'] = merged.apply(lambda row: row.date[5:7], axis=1)\n",
    "prices.head()\n",
    "\n",
    "prices.loc[prices['pricemonth'].isin(['03','04'])].groupby('move').count()"
   ]
  },
  {
   "cell_type": "code",
   "execution_count": 4,
   "id": "61e0e93d",
   "metadata": {},
   "outputs": [],
   "source": [
    "comments = pd.DataFrame()\n",
    "\n",
    "comments = comments.append(jan_comments)\n",
    "comments = comments.append(feb_comments)\n",
    "comments = comments.append(mar_comments)\n",
    "comments = comments.append(apr_comments)\n",
    "comments = comments.append(may_comments)\n",
    "comments = comments.append(jun_comments)"
   ]
  },
  {
   "cell_type": "code",
   "execution_count": 5,
   "id": "3d754330",
   "metadata": {},
   "outputs": [],
   "source": [
    "from_zone = tz.gettz('UTC')\n",
    "to_zone = tz.gettz('America/New_York')\n",
    "\n",
    "comments['utc_dt'] = comments.apply(lambda row: datetime.strptime(row.created_utc, '%Y-%m-%dT%H:%M:%SZ').replace(tzinfo=from_zone), axis=1)\n",
    "\n",
    "\n",
    "comments['eastern_dt'] = comments.apply(lambda row: row.utc_dt.astimezone(to_zone), axis=1)\n",
    "\n",
    "comments['date'] = comments.apply(lambda row: row.eastern_dt.date().strftime('%Y-%m-%d') if \n",
    "                                  ((row.eastern_dt.hour > 10 and row.eastern_dt.hour < 16) or\n",
    "                                  (row.eastern_dt.hour == 9 and row.eastern_dt.minute > 30)) else '', axis=1)\n",
    "comments['tomorrow'] = comments.apply(lambda row: (row.eastern_dt+timedelta(days=1)).date().strftime('%Y-%m-%d') if \n",
    "                                  ((row.eastern_dt.hour > 10 and row.eastern_dt.hour < 16) or\n",
    "                                  (row.eastern_dt.hour == 9 and row.eastern_dt.minute > 30)) else '', axis=1)\n",
    "\n",
    "open_comments = comments.loc[comments['date'] != '']\n"
   ]
  },
  {
   "cell_type": "code",
   "execution_count": 7,
   "id": "3bff50f9",
   "metadata": {},
   "outputs": [],
   "source": [
    "counts = open_comments.groupby('date').count()\n",
    "\n",
    "counts = counts.reset_index()\n",
    "\n",
    "counts['count'] = counts['body']\n",
    "\n",
    "counts = counts[['date', 'count']]\n",
    "\n",
    "merged = prices.merge(counts, on='date')\n"
   ]
  },
  {
   "cell_type": "code",
   "execution_count": 8,
   "id": "3a28b957",
   "metadata": {},
   "outputs": [
    {
     "data": {
      "image/png": "[encoded data removed]",
      "text/plain": [
       "<Figure size 432x288 with 2 Axes>"
      ]
     },
     "metadata": {
      "needs_background": "light"
     },
     "output_type": "display_data"
    }
   ],
   "source": [
    "merged['date_dt'] = merged.apply(lambda row: datetime.strptime(row.date, '%Y-%m-%d'),axis=1)\n",
    "\n",
    "fig,ax = plt.subplots()\n",
    "ax.plot(merged['date_dt'], merged['close'], color=\"red\",label=\"Close Price\")\n",
    "plt.legend()\n",
    "ax.set_xlabel(\"Date\",fontsize=14)\n",
    "ax.set_ylabel(\"GME Close Price\",fontsize=14)\n",
    "ax2=ax.twinx()\n",
    "ax2.plot(merged['date_dt'], merged['count'],color=\"blue\", label=\"Comments\")\n",
    "ax2.set_ylabel(\"Number of Comments\",fontsize=14)\n",
    "plt.legend(loc='upper left')\n",
    "plt.show()\n",
    "# save the plot as a file\n",
    "# fig.savefig('two_different_y_axis_for_single_python_plot_with_twinx.jpg',\n",
    "#             format='jpeg',\n",
    "#             dpi=100,\n",
    "#             bbox_inches='tight')"
   ]
  },
  {
   "cell_type": "code",
   "execution_count": 12,
   "id": "60d6407d",
   "metadata": {},
   "outputs": [
    {
     "data": {
      "text/html": [
       "<div>\n",
       "<style scoped>\n",
       "    .dataframe tbody tr th:only-of-type {\n",
       "        vertical-align: middle;\n",
       "    }\n",
       "\n",
       "    .dataframe tbody tr th {\n",
       "        vertical-align: top;\n",
       "    }\n",
       "\n",
       "    .dataframe thead th {\n",
       "        text-align: right;\n",
       "    }\n",
       "</style>\n",
       "<table border=\"1\" class=\"dataframe\">\n",
       "  <thead>\n",
       "    <tr style=\"text-align: right;\">\n",
       "      <th></th>\n",
       "      <th>Unnamed: 0</th>\n",
       "      <th>afterHours</th>\n",
       "      <th>close</th>\n",
       "      <th>date</th>\n",
       "      <th>high</th>\n",
       "      <th>open</th>\n",
       "      <th>preMarket</th>\n",
       "      <th>status</th>\n",
       "      <th>volume</th>\n",
       "      <th>move</th>\n",
       "      <th>count</th>\n",
       "      <th>date_dt</th>\n",
       "    </tr>\n",
       "  </thead>\n",
       "  <tbody>\n",
       "    <tr>\n",
       "      <th>0</th>\n",
       "      <td>0</td>\n",
       "      <td>17.3700</td>\n",
       "      <td>17.25</td>\n",
       "      <td>2021-01-04</td>\n",
       "      <td>17.1500</td>\n",
       "      <td>19.00</td>\n",
       "      <td>19.10</td>\n",
       "      <td>OK</td>\n",
       "      <td>10092135.0</td>\n",
       "      <td>-1</td>\n",
       "      <td>2</td>\n",
       "      <td>2021-01-04</td>\n",
       "    </tr>\n",
       "    <tr>\n",
       "      <th>1</th>\n",
       "      <td>0</td>\n",
       "      <td>17.5800</td>\n",
       "      <td>17.37</td>\n",
       "      <td>2021-01-05</td>\n",
       "      <td>17.2300</td>\n",
       "      <td>17.35</td>\n",
       "      <td>17.25</td>\n",
       "      <td>OK</td>\n",
       "      <td>5019394.0</td>\n",
       "      <td>1</td>\n",
       "      <td>3</td>\n",
       "      <td>2021-01-05</td>\n",
       "    </tr>\n",
       "    <tr>\n",
       "      <th>2</th>\n",
       "      <td>0</td>\n",
       "      <td>18.6999</td>\n",
       "      <td>18.36</td>\n",
       "      <td>2021-01-06</td>\n",
       "      <td>17.3300</td>\n",
       "      <td>17.34</td>\n",
       "      <td>17.51</td>\n",
       "      <td>OK</td>\n",
       "      <td>6112481.0</td>\n",
       "      <td>1</td>\n",
       "      <td>2</td>\n",
       "      <td>2021-01-06</td>\n",
       "    </tr>\n",
       "    <tr>\n",
       "      <th>3</th>\n",
       "      <td>0</td>\n",
       "      <td>20.1000</td>\n",
       "      <td>19.94</td>\n",
       "      <td>2021-01-11</td>\n",
       "      <td>19.0100</td>\n",
       "      <td>19.41</td>\n",
       "      <td>17.50</td>\n",
       "      <td>OK</td>\n",
       "      <td>15189190.0</td>\n",
       "      <td>1</td>\n",
       "      <td>9</td>\n",
       "      <td>2021-01-11</td>\n",
       "    </tr>\n",
       "    <tr>\n",
       "      <th>4</th>\n",
       "      <td>0</td>\n",
       "      <td>20.1500</td>\n",
       "      <td>19.95</td>\n",
       "      <td>2021-01-12</td>\n",
       "      <td>19.3168</td>\n",
       "      <td>19.96</td>\n",
       "      <td>20.10</td>\n",
       "      <td>OK</td>\n",
       "      <td>7160540.0</td>\n",
       "      <td>-1</td>\n",
       "      <td>5</td>\n",
       "      <td>2021-01-12</td>\n",
       "    </tr>\n",
       "  </tbody>\n",
       "</table>\n",
       "</div>"
      ],
      "text/plain": [
       "   Unnamed: 0  afterHours  close        date     high   open  preMarket  \\\n",
       "0           0     17.3700  17.25  2021-01-04  17.1500  19.00      19.10   \n",
       "1           0     17.5800  17.37  2021-01-05  17.2300  17.35      17.25   \n",
       "2           0     18.6999  18.36  2021-01-06  17.3300  17.34      17.51   \n",
       "3           0     20.1000  19.94  2021-01-11  19.0100  19.41      17.50   \n",
       "4           0     20.1500  19.95  2021-01-12  19.3168  19.96      20.10   \n",
       "\n",
       "  status      volume  move  count    date_dt  \n",
       "0     OK  10092135.0    -1      2 2021-01-04  \n",
       "1     OK   5019394.0     1      3 2021-01-05  \n",
       "2     OK   6112481.0     1      2 2021-01-06  \n",
       "3     OK  15189190.0     1      9 2021-01-11  \n",
       "4     OK   7160540.0    -1      5 2021-01-12  "
      ]
     },
     "execution_count": 12,
     "metadata": {},
     "output_type": "execute_result"
    }
   ],
   "source": [
    "merged.groupby('move').agg({'count' : ['mean','std']})\n",
    "\n",
    "#merged.groupby('move').count()\n",
    "\n",
    "merged.head()"
   ]
  },
  {
   "cell_type": "code",
   "execution_count": 19,
   "id": "e5633005",
   "metadata": {},
   "outputs": [
    {
     "data": {
      "text/html": [
       "<div>\n",
       "<style scoped>\n",
       "    .dataframe tbody tr th:only-of-type {\n",
       "        vertical-align: middle;\n",
       "    }\n",
       "\n",
       "    .dataframe tbody tr th {\n",
       "        vertical-align: top;\n",
       "    }\n",
       "\n",
       "    .dataframe thead tr th {\n",
       "        text-align: left;\n",
       "    }\n",
       "\n",
       "    .dataframe thead tr:last-of-type th {\n",
       "        text-align: right;\n",
       "    }\n",
       "</style>\n",
       "<table border=\"1\" class=\"dataframe\">\n",
       "  <thead>\n",
       "    <tr>\n",
       "      <th></th>\n",
       "      <th colspan=\"2\" halign=\"left\">count</th>\n",
       "    </tr>\n",
       "    <tr>\n",
       "      <th></th>\n",
       "      <th>mean</th>\n",
       "      <th>std</th>\n",
       "    </tr>\n",
       "    <tr>\n",
       "      <th>move</th>\n",
       "      <th></th>\n",
       "      <th></th>\n",
       "    </tr>\n",
       "  </thead>\n",
       "  <tbody>\n",
       "    <tr>\n",
       "      <th>-1</th>\n",
       "      <td>7269.125</td>\n",
       "      <td>7667.227720</td>\n",
       "    </tr>\n",
       "    <tr>\n",
       "      <th>1</th>\n",
       "      <td>12175.800</td>\n",
       "      <td>6932.167598</td>\n",
       "    </tr>\n",
       "  </tbody>\n",
       "</table>\n",
       "</div>"
      ],
      "text/plain": [
       "          count             \n",
       "           mean          std\n",
       "move                        \n",
       "-1     7269.125  7667.227720\n",
       " 1    12175.800  6932.167598"
      ]
     },
     "execution_count": 19,
     "metadata": {},
     "output_type": "execute_result"
    }
   ],
   "source": [
    "merged['month'] = merged.apply(lambda row: row.date_dt.month, axis=1)\n",
    "\n",
    "merged.loc[merged['month'].isin([3,4])].groupby('move').agg({'count' : ['mean','std']})\n",
    "\n"
   ]
  },
  {
   "cell_type": "code",
   "execution_count": 20,
   "id": "8b9a670b",
   "metadata": {},
   "outputs": [
    {
     "name": "stderr",
     "output_type": "stream",
     "text": [
      "C:\\Users\\Daniel\\anaconda3\\lib\\site-packages\\ipykernel_launcher.py:7: SettingWithCopyWarning: \n",
      "A value is trying to be set on a copy of a slice from a DataFrame.\n",
      "Try using .loc[row_indexer,col_indexer] = value instead\n",
      "\n",
      "See the caveats in the documentation: https://pandas.pydata.org/pandas-docs/stable/user_guide/indexing.html#returning-a-view-versus-a-copy\n",
      "  import sys\n",
      "C:\\Users\\Daniel\\anaconda3\\lib\\site-packages\\ipykernel_launcher.py:8: SettingWithCopyWarning: \n",
      "A value is trying to be set on a copy of a slice from a DataFrame.\n",
      "Try using .loc[row_indexer,col_indexer] = value instead\n",
      "\n",
      "See the caveats in the documentation: https://pandas.pydata.org/pandas-docs/stable/user_guide/indexing.html#returning-a-view-versus-a-copy\n",
      "  \n"
     ]
    }
   ],
   "source": [
    "from torchtext.data.utils import get_tokenizer\n",
    "from collections import Counter\n",
    "from torchtext.vocab import Vocab\n",
    "\n",
    "tokenizer = get_tokenizer('basic_english')\n",
    "\n",
    "open_comments['tokenized'] = open_comments.apply(lambda row : tokenizer(str(row.body)), axis = 1)\n",
    "open_comments['length'] = open_comments.apply(lambda row : len(row.tokenized), axis = 1)"
   ]
  },
  {
   "cell_type": "code",
   "execution_count": 22,
   "id": "105b7f01",
   "metadata": {},
   "outputs": [
    {
     "data": {
      "text/html": [
       "<div>\n",
       "<style scoped>\n",
       "    .dataframe tbody tr th:only-of-type {\n",
       "        vertical-align: middle;\n",
       "    }\n",
       "\n",
       "    .dataframe tbody tr th {\n",
       "        vertical-align: top;\n",
       "    }\n",
       "\n",
       "    .dataframe thead tr th {\n",
       "        text-align: left;\n",
       "    }\n",
       "\n",
       "    .dataframe thead tr:last-of-type th {\n",
       "        text-align: right;\n",
       "    }\n",
       "</style>\n",
       "<table border=\"1\" class=\"dataframe\">\n",
       "  <thead>\n",
       "    <tr>\n",
       "      <th></th>\n",
       "      <th colspan=\"2\" halign=\"left\">length</th>\n",
       "    </tr>\n",
       "    <tr>\n",
       "      <th></th>\n",
       "      <th>mean</th>\n",
       "      <th>std</th>\n",
       "    </tr>\n",
       "    <tr>\n",
       "      <th>move</th>\n",
       "      <th></th>\n",
       "      <th></th>\n",
       "    </tr>\n",
       "  </thead>\n",
       "  <tbody>\n",
       "    <tr>\n",
       "      <th>-1</th>\n",
       "      <td>24.387667</td>\n",
       "      <td>37.132961</td>\n",
       "    </tr>\n",
       "    <tr>\n",
       "      <th>1</th>\n",
       "      <td>23.266855</td>\n",
       "      <td>35.918971</td>\n",
       "    </tr>\n",
       "  </tbody>\n",
       "</table>\n",
       "</div>"
      ],
      "text/plain": [
       "         length           \n",
       "           mean        std\n",
       "move                      \n",
       "-1    24.387667  37.132961\n",
       " 1    23.266855  35.918971"
      ]
     },
     "execution_count": 22,
     "metadata": {},
     "output_type": "execute_result"
    }
   ],
   "source": [
    "merged_comments = open_comments.merge(prices, on='date')\n",
    "merged_comments.groupby('move').agg({'length' : ['mean','std']})\n",
    "#merged_comments.agg({'length' : ['mean','std']})\n",
    "\n",
    "#merged_comments[merged_comments['body'].str.contains(\"moon\", na=False)]"
   ]
  },
  {
   "cell_type": "code",
   "execution_count": 28,
   "id": "a3d66975",
   "metadata": {},
   "outputs": [
    {
     "data": {
      "text/html": [
       "<div>\n",
       "<style scoped>\n",
       "    .dataframe tbody tr th:only-of-type {\n",
       "        vertical-align: middle;\n",
       "    }\n",
       "\n",
       "    .dataframe tbody tr th {\n",
       "        vertical-align: top;\n",
       "    }\n",
       "\n",
       "    .dataframe thead tr th {\n",
       "        text-align: left;\n",
       "    }\n",
       "\n",
       "    .dataframe thead tr:last-of-type th {\n",
       "        text-align: right;\n",
       "    }\n",
       "</style>\n",
       "<table border=\"1\" class=\"dataframe\">\n",
       "  <thead>\n",
       "    <tr>\n",
       "      <th></th>\n",
       "      <th colspan=\"2\" halign=\"left\">length</th>\n",
       "    </tr>\n",
       "    <tr>\n",
       "      <th></th>\n",
       "      <th>mean</th>\n",
       "      <th>std</th>\n",
       "    </tr>\n",
       "    <tr>\n",
       "      <th>move</th>\n",
       "      <th></th>\n",
       "      <th></th>\n",
       "    </tr>\n",
       "  </thead>\n",
       "  <tbody>\n",
       "    <tr>\n",
       "      <th>-1</th>\n",
       "      <td>24.616985</td>\n",
       "      <td>36.973985</td>\n",
       "    </tr>\n",
       "    <tr>\n",
       "      <th>1</th>\n",
       "      <td>24.064663</td>\n",
       "      <td>37.393602</td>\n",
       "    </tr>\n",
       "  </tbody>\n",
       "</table>\n",
       "</div>"
      ],
      "text/plain": [
       "         length           \n",
       "           mean        std\n",
       "move                      \n",
       "-1    24.616985  36.973985\n",
       " 1    24.064663  37.393602"
      ]
     },
     "execution_count": 28,
     "metadata": {},
     "output_type": "execute_result"
    }
   ],
   "source": [
    "#merged_comments = open_comments.merge(prices, on='date')\n",
    "#merged_comments.groupby('move').agg({'length' : ['mean','std']})\n",
    "merged_comments['month'] = merged_comments.apply(lambda row: row.eastern_dt.month, axis=1)\n",
    "\n",
    "merged_comments.loc[merged_comments['month'].isin([3,4])].groupby('move').agg({'length' : ['mean','std']})"
   ]
  },
  {
   "cell_type": "code",
   "execution_count": 18,
   "id": "324c350a",
   "metadata": {},
   "outputs": [
    {
     "ename": "ValueError",
     "evalue": "The truth value of a Series is ambiguous. Use a.empty, a.bool(), a.item(), a.any() or a.all().",
     "output_type": "error",
     "traceback": [
      "\u001b[1;31m---------------------------------------------------------------------------\u001b[0m",
      "\u001b[1;31mValueError\u001b[0m                                Traceback (most recent call last)",
      "\u001b[1;32m<ipython-input-18-6abeb4027ef2>\u001b[0m in \u001b[0;36m<module>\u001b[1;34m\u001b[0m\n\u001b[0;32m      9\u001b[0m \u001b[0msorted_comments\u001b[0m\u001b[1;33m[\u001b[0m\u001b[1;34m'month'\u001b[0m\u001b[1;33m]\u001b[0m \u001b[1;33m=\u001b[0m \u001b[0msorted_comments\u001b[0m\u001b[1;33m.\u001b[0m\u001b[0mapply\u001b[0m\u001b[1;33m(\u001b[0m\u001b[1;32mlambda\u001b[0m \u001b[0mrow\u001b[0m\u001b[1;33m:\u001b[0m \u001b[0mrow\u001b[0m\u001b[1;33m.\u001b[0m\u001b[0meastern_dt\u001b[0m\u001b[1;33m.\u001b[0m\u001b[0mmonth\u001b[0m\u001b[1;33m,\u001b[0m \u001b[0maxis\u001b[0m\u001b[1;33m=\u001b[0m\u001b[1;36m1\u001b[0m\u001b[1;33m)\u001b[0m\u001b[1;33m\u001b[0m\u001b[1;33m\u001b[0m\u001b[0m\n\u001b[0;32m     10\u001b[0m \u001b[1;33m\u001b[0m\u001b[0m\n\u001b[1;32m---> 11\u001b[1;33m \u001b[0msmall_set\u001b[0m \u001b[1;33m=\u001b[0m \u001b[0msorted_comments\u001b[0m\u001b[1;33m[\u001b[0m\u001b[0msorted_comments\u001b[0m\u001b[1;33m[\u001b[0m\u001b[1;34m'month'\u001b[0m\u001b[1;33m]\u001b[0m \u001b[1;32min\u001b[0m \u001b[1;33m(\u001b[0m\u001b[1;36m3\u001b[0m\u001b[1;33m,\u001b[0m\u001b[1;36m4\u001b[0m\u001b[1;33m)\u001b[0m\u001b[1;33m]\u001b[0m\u001b[1;33m\u001b[0m\u001b[1;33m\u001b[0m\u001b[0m\n\u001b[0m",
      "\u001b[1;32m~\\anaconda3\\lib\\site-packages\\pandas\\core\\generic.py\u001b[0m in \u001b[0;36m__nonzero__\u001b[1;34m(self)\u001b[0m\n\u001b[0;32m   1441\u001b[0m     \u001b[1;32mdef\u001b[0m \u001b[0m__nonzero__\u001b[0m\u001b[1;33m(\u001b[0m\u001b[0mself\u001b[0m\u001b[1;33m)\u001b[0m\u001b[1;33m:\u001b[0m\u001b[1;33m\u001b[0m\u001b[1;33m\u001b[0m\u001b[0m\n\u001b[0;32m   1442\u001b[0m         raise ValueError(\n\u001b[1;32m-> 1443\u001b[1;33m             \u001b[1;34mf\"The truth value of a {type(self).__name__} is ambiguous. \"\u001b[0m\u001b[1;33m\u001b[0m\u001b[1;33m\u001b[0m\u001b[0m\n\u001b[0m\u001b[0;32m   1444\u001b[0m             \u001b[1;34m\"Use a.empty, a.bool(), a.item(), a.any() or a.all().\"\u001b[0m\u001b[1;33m\u001b[0m\u001b[1;33m\u001b[0m\u001b[0m\n\u001b[0;32m   1445\u001b[0m         )\n",
      "\u001b[1;31mValueError\u001b[0m: The truth value of a Series is ambiguous. Use a.empty, a.bool(), a.item(), a.any() or a.all()."
     ]
    }
   ],
   "source": [
    "sorted_comments = merged_comments.sort_values('created_utc')\n",
    "\n",
    "cutoff = int(len(sorted_comments)*0.8)\n",
    "\n",
    "train_big = sorted_comments.iloc[:cutoff]\n",
    "\n",
    "test_big = sorted_comments.iloc[cutoff:]\n",
    "\n",
    "sorted_comments['month'] = sorted_comments.apply(lambda row: row.eastern_dt.month, axis=1)"
   ]
  },
  {
   "cell_type": "code",
   "execution_count": 26,
   "id": "517f4cff",
   "metadata": {},
   "outputs": [],
   "source": [
    "small_set = sorted_comments.loc[sorted_comments['month'].isin([3,4])]\n",
    "\n",
    "cutoff = int(len(small_set)*0.8)\n",
    "\n",
    "train_small = small_set.iloc[:cutoff]\n",
    "\n",
    "test_small = small_set.iloc[cutoff:]"
   ]
  },
  {
   "cell_type": "code",
   "execution_count": 27,
   "id": "892f86a1",
   "metadata": {},
   "outputs": [],
   "source": [
    "train_big.to_csv(\"train_big_same_date.csv\")\n",
    "train_small.to_csv(\"train_small_same_date.csv\")\n",
    "test_big.to_csv(\"test_big_same_date.csv\")\n",
    "test_small.to_csv(\"test_small_same_date.csv\")"
   ]
  },
  {
   "cell_type": "code",
   "execution_count": 37,
   "id": "722fcf79",
   "metadata": {},
   "outputs": [],
   "source": [
    "train_dev = small_set.sample(10000)\n",
    "test_dev = small_set.sample(2000)\n",
    "\n",
    "train_dev.to_csv(\"train_dev_same_date.csv\")\n",
    "test_dev.to_csv(\"test_dev_same_date.csv\")"
   ]
  },
  {
   "cell_type": "code",
   "execution_count": 36,
   "id": "9889d176",
   "metadata": {},
   "outputs": [
    {
     "data": {
      "text/plain": [
       "2000"
      ]
     },
     "execution_count": 36,
     "metadata": {},
     "output_type": "execute_result"
    }
   ],
   "source": []
  }
 ],
 "metadata": {
  "kernelspec": {
   "display_name": "Python 3",
   "language": "python",
   "name": "python3"
  },
  "language_info": {
   "codemirror_mode": {
    "name": "ipython",
    "version": 3
   },
   "file_extension": ".py",
   "mimetype": "text/x-python",
   "name": "python",
   "nbconvert_exporter": "python",
   "pygments_lexer": "ipython3",
   "version": "3.7.6"
  }
 },
 "nbformat": 4,
 "nbformat_minor": 5
}
